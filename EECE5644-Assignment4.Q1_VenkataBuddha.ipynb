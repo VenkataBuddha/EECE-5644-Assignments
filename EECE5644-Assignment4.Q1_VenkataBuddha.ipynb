{
 "cells": [
  {
   "cell_type": "markdown",
   "id": "abe0e5ef",
   "metadata": {},
   "source": [
    "# EECE5644-Assignment-4\n",
    "### Venkata Buddha Work"
   ]
  },
  {
   "cell_type": "code",
   "execution_count": 27,
   "id": "e314e3eb",
   "metadata": {},
   "outputs": [],
   "source": [
    "import copy\n",
    "import cvxpy as cp\n",
    "import matplotlib.pyplot as plt # For general plotting\n",
    "from sys import float_info  # Threshold smallest positive floating value\n",
    "import matplotlib.colors as mcol\n",
    "import numpy as np\n",
    "from numpy import linalg as la\n",
    "import pandas as pd\n",
    "from scipy.stats import norm, multivariate_normal\n",
    "from sklearn.linear_model import LogisticRegression\n",
    "from sklearn.metrics import confusion_matrix\n",
    "from sklearn import preprocessing\n",
    "import torch\n",
    "import torch.nn as nn\n",
    "import torch.nn.functional as F\n",
    "from torchsummary import summary # Utility to visualize PyTorch network and shapes\n",
    "from sklearn.model_selection import KFold # Important new include\n",
    "from scipy.optimize import minimize\n",
    "import math\n",
    "from sklearn.pipeline import make_pipeline\n",
    "from sklearn.preprocessing import PolynomialFeatures, StandardScaler\n",
    "from sklearn.svm import SVC\n",
    "\n",
    "np.set_printoptions(suppress=True)\n",
    "np.random.seed(16)\n",
    "torch.manual_seed(7)\n",
    "\n",
    "plt.rc('font', size=22)          # controls default text sizes\n",
    "plt.rc('axes', titlesize=18)     # fontsize of the axes title\n",
    "plt.rc('axes', labelsize=18)     # fontsize of the x and y labels\n",
    "plt.rc('xtick', labelsize=14)    # fontsize of the tick labels\n",
    "plt.rc('ytick', labelsize=14)    # fontsize of the tick labels\n",
    "plt.rc('legend', fontsize=16)    # legend fontsize\n",
    "plt.rc('figure', titlesize=22)   # fontsize of the figure title"
   ]
  },
  {
   "cell_type": "markdown",
   "id": "d6076911",
   "metadata": {},
   "source": [
    "## FUNCTIONS"
   ]
  },
  {
   "cell_type": "code",
   "execution_count": 28,
   "id": "d3dfd04c",
   "metadata": {},
   "outputs": [],
   "source": [
    "def generate_data_from_gmm(N, pdf_params):\n",
    "    n = pdf_params['m'].shape[1]\n",
    "    X = np.zeros([N, n])\n",
    "    labels = np.zeros(N)\n",
    "    u = np.random.rand(N)\n",
    "    thresholds = np.cumsum(pdf_params['priors'])\n",
    "    thresholds = np.insert(thresholds, 0, 0) # For intervals of classes\n",
    "\n",
    "    L = np.array(range(1, len(pdf_params['priors'])+1))\n",
    "    for l in L: #1,2\n",
    "        indices = np.argwhere((thresholds[l-1] <= u) & (u <= thresholds[l]))[:, 0]\n",
    "        Nl = len(indices) \n",
    "        labels[indices] = l * np.ones(Nl) - 1\n",
    "        X[indices, :] =  multivariate_normal.rvs(pdf_params['m'][l-1], pdf_params['C'][l-1], Nl)\n",
    "    \n",
    "    return X, labels, u, thresholds\n",
    "\n",
    "def generateSamples(N):\n",
    "    gmm_pdf = {}\n",
    "    gmm_pdf['m'] = np.array([[0,0],\n",
    "                             [0,0]])\n",
    "    gmm_pdf['priors'] = np.array([0.5, 0.5])\n",
    "    gmm_pdf['C'] = np.array([[[1,0],\n",
    "                              [0,1]],\n",
    "                             [[1,0],\n",
    "                              [0,1]]])\n",
    "    n,labels,u,thresholds = generate_data_from_gmm(N, gmm_pdf)\n",
    "    theta = np.random.uniform(low = -np.pi, high = np.pi, size=N)\n",
    "    x = np.zeros([N, 2])\n",
    "    rl = np.array([2,4])\n",
    "    \n",
    "    L = np.array(range(1, len(gmm_pdf['priors'])+1))\n",
    "    for l in L:\n",
    "        indices = np.argwhere((thresholds[l-1] <= u) & (u <= thresholds[l]))[:, 0]\n",
    "        Nl = len(indices)\n",
    "        if l==1:\n",
    "            x[indices,0] = rl[l-1]*np.cos(theta[indices]) #class 1 (-1)\n",
    "            x[indices,1] = rl[l-1]*np.sin(theta[indices])\n",
    "        elif l==2:\n",
    "            x[indices,0] = rl[l-1]*np.cos(theta[indices]) #class 2 (+1)\n",
    "            x[indices,1] = rl[l-1]*np.sin(theta[indices])\n",
    "    x = x + n\n",
    "    return x, labels"
   ]
  },
  {
   "cell_type": "markdown",
   "id": "455d4eba",
   "metadata": {},
   "source": [
    "## ERM classification rule (min prob. of error classifier)"
   ]
  },
  {
   "cell_type": "code",
   "execution_count": 29,
   "id": "badc96dd",
   "metadata": {},
   "outputs": [],
   "source": [
    "def perform_erm_classification(X, Lambda, gmm_params, C):    \n",
    "    # Conditional likelihoods of each x given each class, shape (C, N)\n",
    "    C = np.array([0, 1])\n",
    "    class_cond_likelihoods = np.array([mvn.pdf(X, gmm_params['m'][c], gmm_params['C'][c]) for c in C])\n",
    "\n",
    "    # Take diag so we have (C, C) shape of priors with prior prob along diagonal\n",
    "    class_priors = np.diag(gmm_params['priors'])\n",
    "    # class_priors*likelihood with diagonal matrix creates a matrix of posterior probabilities\n",
    "    # with each class as a row and N columns for samples, e.g. row 1: [p(y1)p(x1|y1), ..., p(y1)p(xN|y1)]\n",
    "    class_posteriors = class_priors.dot(class_cond_likelihoods)\n",
    "\n",
    "    # Conditional risk matrix of size C x N with each class as a row and N columns for samples\n",
    "    risk_mat = Lambda.dot(class_posteriors)\n",
    "    \n",
    "    return np.argmin(risk_mat, axis=0)"
   ]
  },
  {
   "cell_type": "code",
   "execution_count": 30,
   "id": "3c9c29b4",
   "metadata": {},
   "outputs": [],
   "source": [
    "def softmax(x):\n",
    "    # Numerically stable with large exponentials (log-sum-exp trick if you're curious)\n",
    "    exps = np.exp(x - x.max())\n",
    "    return exps / np.sum(exps, axis=0)   "
   ]
  },
  {
   "cell_type": "code",
   "execution_count": 31,
   "id": "158d72c3",
   "metadata": {},
   "outputs": [],
   "source": [
    "class TwoLayerMLP(nn.Module):\n",
    "    # Two-layer MLP (not really a perceptron activation function...) network class\n",
    "    \n",
    "    def __init__(self, input_dim, hidden_dim, C):\n",
    "        super(TwoLayerMLP, self).__init__()\n",
    "        # Fully connected layer WX + b mapping from input_dim (n) -> hidden_layer_dim\n",
    "        self.input_fc = nn.Linear(input_dim, hidden_dim)\n",
    "        # Output layer again fully connected mapping from hidden_layer_dim -> outputs_dim (C)\n",
    "        self.output_fc = nn.Linear(hidden_dim, C)\n",
    "        # Log Softmax (faster and better than straight Softmax)\n",
    "        # dim=1 refers to the dimension along which the softmax operation is computed\n",
    "        # In this case computing probabilities across dim 1, i.e., along classes at output layer\n",
    "        self.log_softmax = nn.LogSoftmax(dim=1) \n",
    "        \n",
    "    # Don't call this function directly!! \n",
    "    # Simply pass input to model and forward(input) returns output, e.g. model(X)\n",
    "    def forward(self, X):\n",
    "        # X = [batch_size, input_dim (n)]\n",
    "        X = self.input_fc(X)\n",
    "        # Non-linear activation function, e.g. ReLU (default good choice)\n",
    "        # Could also choose F.softplus(x) for smooth-ReLU, empirically worse than ReLU\n",
    "        X = F.relu(X)\n",
    "        # X = [batch_size, hidden_dim]\n",
    "        # Connect to last layer and output 'logits'\n",
    "        X = self.output_fc(X)\n",
    "        # Squash logits to probabilities that sum up to 1\n",
    "        y = self.log_softmax(X)\n",
    "        return y"
   ]
  },
  {
   "cell_type": "code",
   "execution_count": 32,
   "id": "be60cdc4",
   "metadata": {},
   "outputs": [],
   "source": [
    "def model_train(model, data, labels, criterion, optimizer, num_epochs=25):\n",
    "    # Apparently good practice to set this \"flag\" too before training\n",
    "    # Does things like make sure Dropout layers are active, gradients are updated, etc.\n",
    "    # Probably not a big deal for our toy network, but still worth developing good practice\n",
    "    model.train()\n",
    "    # Optimize the neural network\n",
    "    for epoch in range(num_epochs):\n",
    "        # These outputs represent the model's predicted probabilities for each class. \n",
    "        outputs = model(data)\n",
    "        # Criterion computes the cross entropy loss between input and target\n",
    "        loss = criterion(outputs, labels)\n",
    "        # Set gradient buffers to zero explicitly before backprop\n",
    "        optimizer.zero_grad()\n",
    "        # Backward pass to compute the gradients through the network\n",
    "        loss.backward()\n",
    "        # GD step update\n",
    "        optimizer.step()\n",
    "        \n",
    "    return model"
   ]
  },
  {
   "cell_type": "code",
   "execution_count": 33,
   "id": "2f49f847",
   "metadata": {},
   "outputs": [],
   "source": [
    "def model_predict(model, data):\n",
    "    # Similar idea to model.train(), set a flag to let network know your in \"inference\" mode\n",
    "    model.eval()\n",
    "    # Disabling gradient calculation is useful for inference, only forward pass!!\n",
    "    with torch.no_grad():\n",
    "        # Evaluate nn on test data and compare to true labels\n",
    "        predicted_labels = model(data)\n",
    "        # Back to numpy\n",
    "        predicted_labels = predicted_labels.detach().numpy()\n",
    "\n",
    "        return np.argmax(predicted_labels, 1)"
   ]
  },
  {
   "cell_type": "code",
   "execution_count": 34,
   "id": "f5577781",
   "metadata": {},
   "outputs": [],
   "source": [
    "def kFoldMLP(percep, X_train, y_train, C):\n",
    "    \n",
    "    #Find certain parameters \n",
    "    K = 10\n",
    "    n_percep = np.max(percep) # P perceptrons (\"hyperparameters\") to evaluate\n",
    "    prob_error_train = np.empty((n_percep, K)) # Allocate space for probability error train error array - percep * 10\n",
    "    mean_prob_err_per_fold = np.empty((n_percep))\n",
    "    # STEP 1: Partition the dataset into K approximately-equal-sized partitions\n",
    "    # Shuffles data before doing the division into folds (not necessary, but a good idea)\n",
    "     # Number of folds for CV\n",
    "    kf = KFold(n_splits=K, shuffle=True) \n",
    "    \n",
    "    # STEP 2: Try number of perceptrons between 1-20 for the hidden layer\n",
    "    for per in percep:\n",
    "        k = 0\n",
    "        for train_indices, valid_indices in kf.split(X_train):\n",
    "            # Extract the training and validation sets from the K-fold split\n",
    "            X_train_k = X_train[train_indices]\n",
    "            y_train_k = y_train[train_indices]\n",
    "            X_valid_k = X_train[valid_indices]\n",
    "            y_valid_k = y_train[valid_indices]\n",
    "            \n",
    "            # Train model parameters\n",
    "            input_dim = X_train_k.shape[1]\n",
    "            model = TwoLayerMLP(input_dim, per, C)\n",
    "            optimizer = torch.optim.SGD(model.parameters(), lr=0.01, momentum=0.9)\n",
    "            criterion = nn.CrossEntropyLoss()\n",
    "            X_tensor = torch.FloatTensor(X_train_k)\n",
    "            y_tensor = torch.LongTensor(y_train_k)\n",
    "            X_tensor_valid = torch.FloatTensor(X_valid_k) #what we're testing the model on\n",
    "            y_tensor_valid = torch.LongTensor(y_valid_k)\n",
    "            model = model_train(model, X_tensor, y_tensor, criterion, optimizer, num_epochs=100) # Trained model \n",
    "            Z = model_predict(model, X_tensor_valid) #predictions resulting from the forward pass through the network\n",
    "            \n",
    "            #Record Probability Error for Training Data\n",
    "            N = y_tensor_valid.shape\n",
    "            conf_mat = confusion_matrix(Z, y_tensor_valid)\n",
    "            correct_class_samples = np.sum(np.diag(conf_mat))\n",
    "            prob_error_train[per-1, k] = 1 - (correct_class_samples / N)\n",
    "            k += 1\n",
    "        mean_prob_err_per_fold[per-1] = np.mean(prob_error_train[per-1,:])\n",
    "            \n",
    "    # STEP 3: Compute the lowest error\n",
    "    KF_min_err = np.min(mean_prob_err_per_fold)\n",
    "    num_perc = np.argmin(mean_prob_err_per_fold)\n",
    "    \n",
    "    return KF_min_err, num_perc, mean_prob_err_per_fold"
   ]
  },
  {
   "cell_type": "code",
   "execution_count": 35,
   "id": "854e2bf1",
   "metadata": {},
   "outputs": [],
   "source": [
    "def trainData(X_test, y_test, X_train, y_train, per, C):\n",
    "    \n",
    "    # Train model parameters\n",
    "    input_dim = X_train.shape[1]\n",
    "    model = TwoLayerMLP(input_dim, per, C)\n",
    "    optimizer = torch.optim.SGD(model.parameters(), lr=0.01, momentum=0.9)\n",
    "    criterion = nn.CrossEntropyLoss()\n",
    "    X_tensor = torch.FloatTensor(X_train)\n",
    "    y_tensor = torch.LongTensor(y_train)\n",
    "    X_tensor_test = torch.FloatTensor(X_test)\n",
    "    y_tensor_test = torch.LongTensor(y_test)\n",
    "    model = model_train(model, X_tensor, y_tensor, criterion, optimizer, num_epochs=100) # Trained model \n",
    "    Z = model_predict(model, X_tensor_test) #predictions resulting from the forward pass through the network\n",
    "            \n",
    "    #Record Probability Error for Training Data\n",
    "    N = y_tensor_test.shape\n",
    "    conf_mat = confusion_matrix(Z, y_tensor_test)\n",
    "    correct_class_samples = np.sum(np.diag(conf_mat))\n",
    "    error = 1 - (correct_class_samples / N)\n",
    "    \n",
    "    return error"
   ]
  },
  {
   "cell_type": "code",
   "execution_count": 36,
   "id": "f74ab62e",
   "metadata": {},
   "outputs": [],
   "source": [
    "def kFoldSVM(X_train, y_train, box_constraints, gamma):\n",
    "    \n",
    "    #Find certain parameters \n",
    "    K = 10\n",
    "    n_box = len(box_constraints) \n",
    "    n_gam = len(gamma)\n",
    "    prob_error_train = np.empty((K)) #use to find best probability error per fold\n",
    "    gam_box_err = np.empty((n_box*n_gam,3)) #records every gamma, box cons, and error (after each 10-fold)\n",
    "\n",
    "    kf = KFold(n_splits=K, shuffle=True) \n",
    "    \n",
    "    ct = 0 #keeps track of what iteration\n",
    "    for C in box_constraints:\n",
    "        for gam in gamma:\n",
    "            k = 0 #keeps track of folds\n",
    "            for train_indices, valid_indices in kf.split(X_train):\n",
    "                # Extract the training and validation sets from the K-fold split\n",
    "                X_train_k = X_train[train_indices]\n",
    "                y_train_k = y_train[train_indices]\n",
    "                X_valid_k = X_train[valid_indices]\n",
    "                y_valid_k = y_train[valid_indices]\n",
    "\n",
    "                # Train model parameters\n",
    "                rbf_svc = make_pipeline(StandardScaler(), SVC(kernel='rbf', gamma=gam, C=C))\n",
    "                rbf_svc.fit(X_train_k, y_train_k)\n",
    "                y_pred = rbf_svc.predict(X_valid_k)\n",
    "\n",
    "                #Record Probability Error for Training Data\n",
    "                N = y_valid_k.shape\n",
    "                conf_mat = confusion_matrix(y_pred, y_valid_k)\n",
    "                correct_class_samples = np.sum(np.diag(conf_mat))\n",
    "                prob_error_train[k] = 1 - (correct_class_samples / N)\n",
    "                k += 1\n",
    "            gam_box_err[ct,0] = gam\n",
    "            gam_box_err[ct,1] = C\n",
    "            gam_box_err[ct,2] = np.min(prob_error_train)\n",
    "            ct +=1\n",
    "    \n",
    "    return gam_box_err"
   ]
  },
  {
   "cell_type": "markdown",
   "id": "07dc63ef",
   "metadata": {},
   "source": [
    "Generate 1000 independent and identically distributed (iid) samples for training and 10000 iid\n",
    "samples for testing. All data for class l ∈ {−1,+1} should be generated as follows:\n",
    "x = rl*[cos(θ); sin(θ)] + n \n",
    "where θ ∼ Uniform[−π,π] and n ∼ N(0,σ^2*I). Use r_−1 = 2,r_+1 = 4,σ = 1."
   ]
  },
  {
   "cell_type": "code",
   "execution_count": 40,
   "id": "3f64d0b5",
   "metadata": {},
   "outputs": [
    {
     "data": {
      "image/png": "[encoded data removed]",
      "text/plain": [
       "<Figure size 432x288 with 1 Axes>"
      ]
     },
     "metadata": {
      "needs_background": "light"
     },
     "output_type": "display_data"
    }
   ],
   "source": [
    "Ntrain = 1000\n",
    "Ntest = 10000\n",
    "C = 2 #num of classes\n",
    "\n",
    "x_train, y_train = generateSamples(Ntrain)\n",
    "x_test, y_test = generateSamples(Ntest)\n",
    "\n",
    "fig = plt.figure()\n",
    "indices_y0 = np.argwhere((y_train[:] == 0))[:, 0]\n",
    "indices_y1 = np.argwhere((y_train[:] == 1))[:, 0]\n",
    "plt.scatter(x_train[indices_y0,0],x_train[indices_y0,1], c='b',marker='+', label=\"y = -1\")\n",
    "plt.scatter(x_train[indices_y1,0],x_train[indices_y1,1], c='r',marker='x',label=\"y = 1\")\n",
    "plt.plot()\n",
    "plt.legend()\n",
    "plt.xlabel(\"x1\")\n",
    "plt.ylabel(\"x2\")\n",
    "plt.title(\"Training Data\")\n",
    "plt.show()"
   ]
  },
  {
   "cell_type": "code",
   "execution_count": 41,
   "id": "0be91b88",
   "metadata": {},
   "outputs": [
    {
     "data": {
      "image/png": "[encoded data removed]",
      "text/plain": [
       "<Figure size 432x288 with 1 Axes>"
      ]
     },
     "metadata": {
      "needs_background": "light"
     },
     "output_type": "display_data"
    },
    {
     "name": "stdout",
     "output_type": "stream",
     "text": [
      "The best perceptrons is  12  which gave an error of  0.178\n",
      "The best kernel is  0.30000000000000004 , and the best box constraint is  1.5  which gave an error of  0.06000000000000005\n"
     ]
    }
   ],
   "source": [
    "#Use the training data with 10-fold cross-validation to determine the best hyperparameters\n",
    "#MLP - number of perceptrons in the hidden layer\n",
    "perceptrons = np.arange(1, 20, 1) #array 1-50 in order\n",
    "MLP_min_err, num_perceptrons, avg_err_percep_arr = kFoldMLP(perceptrons, x_train, y_train, C)\n",
    "fig = plt.figure()\n",
    "plt.plot(perceptrons,avg_err_percep_arr, c='k')\n",
    "plt.xlabel(\"Number of Perceptrons\")\n",
    "plt.ylabel(\"AvG Error over K-Fold CV\")\n",
    "plt.show()\n",
    "print(\"The best perceptrons is \", num_perceptrons, \" which gave an error of \", MLP_min_err)\n",
    "\n",
    "#SVM - box constraints parameter and Gaussian kernel width\n",
    "# SVC with Gaussian/RBF kernel\n",
    "# Pipeline of sequentially applied transforms before producing the final estimation, e.g. Support Vector Classifier\n",
    "box_constraints = np.arange(1, 5, 0.5)\n",
    "gamma = np.arange(0.1, 3, 0.2)\n",
    "gam_box_err = kFoldSVM(x_train, y_train, box_constraints, gamma) \n",
    "SVM_min_err = np.min(gam_box_err[:,2])\n",
    "indices_min_err = np.argmin(gam_box_err[:,2])\n",
    "ideal_gamma = gam_box_err[indices_min_err,0]\n",
    "ideal_box = gam_box_err[indices_min_err,1]\n",
    "#plotting best gamma per box constraint\n",
    "print(\"The best kernel is \", ideal_gamma, \", and the best box constraint is \", ideal_box, \" which gave an error of \", SVM_min_err)"
   ]
  },
  {
   "cell_type": "code",
   "execution_count": 39,
   "id": "6d6c0c78",
   "metadata": {},
   "outputs": [
    {
     "name": "stdout",
     "output_type": "stream",
     "text": [
      "MLP: Probability of error on the test dataset is  0.17490000000000006\n",
      "SVM: Probability of error on the test dataset is  0.16649999999999998\n"
     ]
    },
    {
     "data": {
      "image/png": "[encoded data removed]",
      "text/plain": [
       "<Figure size 432x288 with 1 Axes>"
      ]
     },
     "metadata": {
      "needs_background": "light"
     },
     "output_type": "display_data"
    }
   ],
   "source": [
    "#Once these hyperparameters are set, train your final SVM and MLP classifier using the entire training data set\n",
    "#Apply your trained SVM and MLP classifiers to the test data set and estimate the probability of error from this data set\n",
    "#MLP\n",
    "input_dim = x_train.shape[1]\n",
    "model = TwoLayerMLP(input_dim, num_perceptrons, C)\n",
    "optimizer = torch.optim.SGD(model.parameters(), lr=0.01, momentum=0.9)\n",
    "criterion = nn.CrossEntropyLoss()\n",
    "x_tensor_train = torch.FloatTensor(x_train)\n",
    "y_tensor_train = torch.LongTensor(y_train)\n",
    "x_tensor_test = torch.FloatTensor(x_test) #what we're testing the model on\n",
    "y_tensor_test = torch.LongTensor(y_test)\n",
    "model = model_train(model, x_tensor_train, y_tensor_train, criterion, optimizer, num_epochs=100) # Trained model \n",
    "Z = model_predict(model, x_tensor_test) #predictions resulting from the forward pass through the network\n",
    "conf_mat = confusion_matrix(Z, y_tensor_test)\n",
    "correct_class_samples = np.sum(np.diag(conf_mat))\n",
    "prob_err_MLP = 1 - (correct_class_samples / Ntest)\n",
    "print(\"MLP: Probability of error on the test dataset is \", prob_err_MLP)\n",
    "\n",
    "#SVM\n",
    "rbf_svc = make_pipeline(StandardScaler(), SVC(kernel='rbf', gamma=ideal_gamma, C=ideal_box))\n",
    "rbf_svc.fit(x_train, y_train)\n",
    "y_pred = rbf_svc.predict(x_test)\n",
    "conf_mat = confusion_matrix(y_pred, y_test)\n",
    "correct_class_samples = np.sum(np.diag(conf_mat))\n",
    "prob_err_SVM = 1 - (correct_class_samples / Ntest)\n",
    "print(\"SVM: Probability of error on the test dataset is \", prob_err_SVM)\n",
    "\n",
    "#plotting errors\n",
    "fig = plt.figure()\n",
    "ax = fig.add_axes([0,0,1,1])\n",
    "names = ['MLP Error', 'SVM Error']\n",
    "errors = [prob_err_MLP,prob_err_SVM]\n",
    "ax.bar(names,errors)\n",
    "plt.show()"
   ]
  }
 ],
 "metadata": {
  "kernelspec": {
   "display_name": "Python 3 (ipykernel)",
   "language": "python",
   "name": "python3"
  },
  "language_info": {
   "codemirror_mode": {
    "name": "ipython",
    "version": 3
   },
   "file_extension": ".py",
   "mimetype": "text/x-python",
   "name": "python",
   "nbconvert_exporter": "python",
   "pygments_lexer": "ipython3",
   "version": "3.9.12"
  }
 },
 "nbformat": 4,
 "nbformat_minor": 5
}
